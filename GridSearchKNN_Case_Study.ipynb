{
 "cells": [
  {
   "cell_type": "markdown",
   "metadata": {},
   "source": [
    "## Grid Search Hyperparameter optimization"
   ]
  },
  {
   "cell_type": "markdown",
   "metadata": {},
   "source": [
    "This case study is all about using grid searches to identify the optimal parameters for a machine learning algorithm. To complere this case study, you'll use the Pima Indian diabetes dataset from Kaggle and KNN. Follow along with the preprocessing steps of this case study."
   ]
  },
  {
   "cell_type": "markdown",
   "metadata": {
    "tags": []
   },
   "source": [
    "Load the necessary packages"
   ]
  },
  {
   "cell_type": "code",
   "execution_count": 1,
   "metadata": {},
   "outputs": [],
   "source": [
    "import numpy as np\n",
    "import pandas as pd\n",
    "import matplotlib.pyplot as plt\n",
    "import seaborn as sns\n",
    "sns.set()"
   ]
  },
  {
   "cell_type": "markdown",
   "metadata": {
    "tags": []
   },
   "source": [
    "#### Load the diabetes data"
   ]
  },
  {
   "cell_type": "code",
   "execution_count": 29,
   "metadata": {},
   "outputs": [
    {
     "data": {
      "text/html": [
       "<div>\n",
       "<style scoped>\n",
       "    .dataframe tbody tr th:only-of-type {\n",
       "        vertical-align: middle;\n",
       "    }\n",
       "\n",
       "    .dataframe tbody tr th {\n",
       "        vertical-align: top;\n",
       "    }\n",
       "\n",
       "    .dataframe thead th {\n",
       "        text-align: right;\n",
       "    }\n",
       "</style>\n",
       "<table border=\"1\" class=\"dataframe\">\n",
       "  <thead>\n",
       "    <tr style=\"text-align: right;\">\n",
       "      <th></th>\n",
       "      <th>Pregnancies</th>\n",
       "      <th>Glucose</th>\n",
       "      <th>BloodPressure</th>\n",
       "      <th>SkinThickness</th>\n",
       "      <th>Insulin</th>\n",
       "      <th>BMI</th>\n",
       "      <th>DiabetesPedigreeFunction</th>\n",
       "      <th>Age</th>\n",
       "      <th>Outcome</th>\n",
       "    </tr>\n",
       "  </thead>\n",
       "  <tbody>\n",
       "    <tr>\n",
       "      <th>0</th>\n",
       "      <td>6</td>\n",
       "      <td>148</td>\n",
       "      <td>72</td>\n",
       "      <td>35</td>\n",
       "      <td>0</td>\n",
       "      <td>33.6</td>\n",
       "      <td>0.627</td>\n",
       "      <td>50</td>\n",
       "      <td>1</td>\n",
       "    </tr>\n",
       "    <tr>\n",
       "      <th>1</th>\n",
       "      <td>1</td>\n",
       "      <td>85</td>\n",
       "      <td>66</td>\n",
       "      <td>29</td>\n",
       "      <td>0</td>\n",
       "      <td>26.6</td>\n",
       "      <td>0.351</td>\n",
       "      <td>31</td>\n",
       "      <td>0</td>\n",
       "    </tr>\n",
       "    <tr>\n",
       "      <th>2</th>\n",
       "      <td>8</td>\n",
       "      <td>183</td>\n",
       "      <td>64</td>\n",
       "      <td>0</td>\n",
       "      <td>0</td>\n",
       "      <td>23.3</td>\n",
       "      <td>0.672</td>\n",
       "      <td>32</td>\n",
       "      <td>1</td>\n",
       "    </tr>\n",
       "    <tr>\n",
       "      <th>3</th>\n",
       "      <td>1</td>\n",
       "      <td>89</td>\n",
       "      <td>66</td>\n",
       "      <td>23</td>\n",
       "      <td>94</td>\n",
       "      <td>28.1</td>\n",
       "      <td>0.167</td>\n",
       "      <td>21</td>\n",
       "      <td>0</td>\n",
       "    </tr>\n",
       "    <tr>\n",
       "      <th>4</th>\n",
       "      <td>0</td>\n",
       "      <td>137</td>\n",
       "      <td>40</td>\n",
       "      <td>35</td>\n",
       "      <td>168</td>\n",
       "      <td>43.1</td>\n",
       "      <td>2.288</td>\n",
       "      <td>33</td>\n",
       "      <td>1</td>\n",
       "    </tr>\n",
       "  </tbody>\n",
       "</table>\n",
       "</div>"
      ],
      "text/plain": [
       "   Pregnancies  Glucose  BloodPressure  SkinThickness  Insulin   BMI  \\\n",
       "0            6      148             72             35        0  33.6   \n",
       "1            1       85             66             29        0  26.6   \n",
       "2            8      183             64              0        0  23.3   \n",
       "3            1       89             66             23       94  28.1   \n",
       "4            0      137             40             35      168  43.1   \n",
       "\n",
       "   DiabetesPedigreeFunction  Age  Outcome  \n",
       "0                     0.627   50        1  \n",
       "1                     0.351   31        0  \n",
       "2                     0.672   32        1  \n",
       "3                     0.167   21        0  \n",
       "4                     2.288   33        1  "
      ]
     },
     "execution_count": 29,
     "metadata": {},
     "output_type": "execute_result"
    }
   ],
   "source": [
    "diabetes_data = pd.read_csv('E:/Springboard/grid search case study/GridSearchKNN Case Study/diabetes.csv')\n",
    "diabetes_data.head()"
   ]
  },
  {
   "cell_type": "markdown",
   "metadata": {
    "tags": []
   },
   "source": [
    "**<font color='teal'> Start by reviewing the data info.</font>**"
   ]
  },
  {
   "cell_type": "code",
   "execution_count": 30,
   "metadata": {},
   "outputs": [
    {
     "name": "stdout",
     "output_type": "stream",
     "text": [
      "<class 'pandas.core.frame.DataFrame'>\n",
      "RangeIndex: 768 entries, 0 to 767\n",
      "Data columns (total 9 columns):\n",
      " #   Column                    Non-Null Count  Dtype  \n",
      "---  ------                    --------------  -----  \n",
      " 0   Pregnancies               768 non-null    int64  \n",
      " 1   Glucose                   768 non-null    int64  \n",
      " 2   BloodPressure             768 non-null    int64  \n",
      " 3   SkinThickness             768 non-null    int64  \n",
      " 4   Insulin                   768 non-null    int64  \n",
      " 5   BMI                       768 non-null    float64\n",
      " 6   DiabetesPedigreeFunction  768 non-null    float64\n",
      " 7   Age                       768 non-null    int64  \n",
      " 8   Outcome                   768 non-null    int64  \n",
      "dtypes: float64(2), int64(7)\n",
      "memory usage: 54.1 KB\n"
     ]
    }
   ],
   "source": [
    "diabetes_data.info()"
   ]
  },
  {
   "cell_type": "markdown",
   "metadata": {
    "tags": []
   },
   "source": [
    "**<font color='teal'> Apply the describe function to the data.</font>**"
   ]
  },
  {
   "cell_type": "code",
   "execution_count": 31,
   "metadata": {},
   "outputs": [
    {
     "data": {
      "text/html": [
       "<div>\n",
       "<style scoped>\n",
       "    .dataframe tbody tr th:only-of-type {\n",
       "        vertical-align: middle;\n",
       "    }\n",
       "\n",
       "    .dataframe tbody tr th {\n",
       "        vertical-align: top;\n",
       "    }\n",
       "\n",
       "    .dataframe thead th {\n",
       "        text-align: right;\n",
       "    }\n",
       "</style>\n",
       "<table border=\"1\" class=\"dataframe\">\n",
       "  <thead>\n",
       "    <tr style=\"text-align: right;\">\n",
       "      <th></th>\n",
       "      <th>Pregnancies</th>\n",
       "      <th>Glucose</th>\n",
       "      <th>BloodPressure</th>\n",
       "      <th>SkinThickness</th>\n",
       "      <th>Insulin</th>\n",
       "      <th>BMI</th>\n",
       "      <th>DiabetesPedigreeFunction</th>\n",
       "      <th>Age</th>\n",
       "      <th>Outcome</th>\n",
       "    </tr>\n",
       "  </thead>\n",
       "  <tbody>\n",
       "    <tr>\n",
       "      <th>count</th>\n",
       "      <td>768.000000</td>\n",
       "      <td>768.000000</td>\n",
       "      <td>768.000000</td>\n",
       "      <td>768.000000</td>\n",
       "      <td>768.000000</td>\n",
       "      <td>768.000000</td>\n",
       "      <td>768.000000</td>\n",
       "      <td>768.000000</td>\n",
       "      <td>768.000000</td>\n",
       "    </tr>\n",
       "    <tr>\n",
       "      <th>mean</th>\n",
       "      <td>3.845052</td>\n",
       "      <td>120.894531</td>\n",
       "      <td>69.105469</td>\n",
       "      <td>20.536458</td>\n",
       "      <td>79.799479</td>\n",
       "      <td>31.992578</td>\n",
       "      <td>0.471876</td>\n",
       "      <td>33.240885</td>\n",
       "      <td>0.348958</td>\n",
       "    </tr>\n",
       "    <tr>\n",
       "      <th>std</th>\n",
       "      <td>3.369578</td>\n",
       "      <td>31.972618</td>\n",
       "      <td>19.355807</td>\n",
       "      <td>15.952218</td>\n",
       "      <td>115.244002</td>\n",
       "      <td>7.884160</td>\n",
       "      <td>0.331329</td>\n",
       "      <td>11.760232</td>\n",
       "      <td>0.476951</td>\n",
       "    </tr>\n",
       "    <tr>\n",
       "      <th>min</th>\n",
       "      <td>0.000000</td>\n",
       "      <td>0.000000</td>\n",
       "      <td>0.000000</td>\n",
       "      <td>0.000000</td>\n",
       "      <td>0.000000</td>\n",
       "      <td>0.000000</td>\n",
       "      <td>0.078000</td>\n",
       "      <td>21.000000</td>\n",
       "      <td>0.000000</td>\n",
       "    </tr>\n",
       "    <tr>\n",
       "      <th>25%</th>\n",
       "      <td>1.000000</td>\n",
       "      <td>99.000000</td>\n",
       "      <td>62.000000</td>\n",
       "      <td>0.000000</td>\n",
       "      <td>0.000000</td>\n",
       "      <td>27.300000</td>\n",
       "      <td>0.243750</td>\n",
       "      <td>24.000000</td>\n",
       "      <td>0.000000</td>\n",
       "    </tr>\n",
       "    <tr>\n",
       "      <th>50%</th>\n",
       "      <td>3.000000</td>\n",
       "      <td>117.000000</td>\n",
       "      <td>72.000000</td>\n",
       "      <td>23.000000</td>\n",
       "      <td>30.500000</td>\n",
       "      <td>32.000000</td>\n",
       "      <td>0.372500</td>\n",
       "      <td>29.000000</td>\n",
       "      <td>0.000000</td>\n",
       "    </tr>\n",
       "    <tr>\n",
       "      <th>75%</th>\n",
       "      <td>6.000000</td>\n",
       "      <td>140.250000</td>\n",
       "      <td>80.000000</td>\n",
       "      <td>32.000000</td>\n",
       "      <td>127.250000</td>\n",
       "      <td>36.600000</td>\n",
       "      <td>0.626250</td>\n",
       "      <td>41.000000</td>\n",
       "      <td>1.000000</td>\n",
       "    </tr>\n",
       "    <tr>\n",
       "      <th>max</th>\n",
       "      <td>17.000000</td>\n",
       "      <td>199.000000</td>\n",
       "      <td>122.000000</td>\n",
       "      <td>99.000000</td>\n",
       "      <td>846.000000</td>\n",
       "      <td>67.100000</td>\n",
       "      <td>2.420000</td>\n",
       "      <td>81.000000</td>\n",
       "      <td>1.000000</td>\n",
       "    </tr>\n",
       "  </tbody>\n",
       "</table>\n",
       "</div>"
      ],
      "text/plain": [
       "       Pregnancies     Glucose  BloodPressure  SkinThickness     Insulin  \\\n",
       "count   768.000000  768.000000     768.000000     768.000000  768.000000   \n",
       "mean      3.845052  120.894531      69.105469      20.536458   79.799479   \n",
       "std       3.369578   31.972618      19.355807      15.952218  115.244002   \n",
       "min       0.000000    0.000000       0.000000       0.000000    0.000000   \n",
       "25%       1.000000   99.000000      62.000000       0.000000    0.000000   \n",
       "50%       3.000000  117.000000      72.000000      23.000000   30.500000   \n",
       "75%       6.000000  140.250000      80.000000      32.000000  127.250000   \n",
       "max      17.000000  199.000000     122.000000      99.000000  846.000000   \n",
       "\n",
       "              BMI  DiabetesPedigreeFunction         Age     Outcome  \n",
       "count  768.000000                768.000000  768.000000  768.000000  \n",
       "mean    31.992578                  0.471876   33.240885    0.348958  \n",
       "std      7.884160                  0.331329   11.760232    0.476951  \n",
       "min      0.000000                  0.078000   21.000000    0.000000  \n",
       "25%     27.300000                  0.243750   24.000000    0.000000  \n",
       "50%     32.000000                  0.372500   29.000000    0.000000  \n",
       "75%     36.600000                  0.626250   41.000000    1.000000  \n",
       "max     67.100000                  2.420000   81.000000    1.000000  "
      ]
     },
     "execution_count": 31,
     "metadata": {},
     "output_type": "execute_result"
    }
   ],
   "source": [
    "diabetes_data.describe(include='all')"
   ]
  },
  {
   "cell_type": "markdown",
   "metadata": {
    "tags": []
   },
   "source": [
    "**<font color='teal'> Currently, the missing values in the dataset are represented as zeros. Replace the zero values in the following columns ['Glucose','BloodPressure','SkinThickness','Insulin','BMI'] with nan .</font>**"
   ]
  },
  {
   "cell_type": "code",
   "execution_count": 32,
   "metadata": {},
   "outputs": [],
   "source": [
    "diabetes_data['Glucose'] = diabetes_data['Glucose'].replace(0, np.nan)\n",
    "diabetes_data['BloodPressure'] = diabetes_data['BloodPressure'].replace(0, np.nan)\n",
    "diabetes_data['SkinThickness'] = diabetes_data['SkinThickness'].replace(0, np.nan)\n",
    "diabetes_data['Insulin'] = diabetes_data['Insulin'].replace(0, np.nan)\n",
    "diabetes_data['BMI'] = diabetes_data['BMI'].replace(0, np.nan)"
   ]
  },
  {
   "cell_type": "markdown",
   "metadata": {
    "tags": []
   },
   "source": [
    "**<font color='teal'> Plot histograms of each column. </font>**"
   ]
  },
  {
   "cell_type": "code",
   "execution_count": 35,
   "metadata": {},
   "outputs": [
    {
     "data": {
      "image/png": "[encoded data removed]",
      "text/plain": [
       "<Figure size 720x720 with 9 Axes>"
      ]
     },
     "metadata": {},
     "output_type": "display_data"
    }
   ],
   "source": [
    "diabetes_data.hist(grid=True, figsize=(10,10))\n",
    "plt.show()"
   ]
  },
  {
   "cell_type": "markdown",
   "metadata": {
    "tags": []
   },
   "source": [
    "#### Replace the zeros with mean and median values."
   ]
  },
  {
   "cell_type": "code",
   "execution_count": 36,
   "metadata": {},
   "outputs": [
    {
     "data": {
      "text/plain": [
       "Pregnancies                   0\n",
       "Glucose                       5\n",
       "BloodPressure                35\n",
       "SkinThickness               227\n",
       "Insulin                     374\n",
       "BMI                          11\n",
       "DiabetesPedigreeFunction      0\n",
       "Age                           0\n",
       "Outcome                       0\n",
       "dtype: int64"
      ]
     },
     "execution_count": 36,
     "metadata": {},
     "output_type": "execute_result"
    }
   ],
   "source": [
    "diabetes_data.isna().sum()"
   ]
  },
  {
   "cell_type": "code",
   "execution_count": 37,
   "metadata": {},
   "outputs": [],
   "source": [
    "diabetes_data['Glucose'].fillna(diabetes_data['Glucose'].mean(), inplace = True)\n",
    "diabetes_data['BloodPressure'].fillna(diabetes_data['BloodPressure'].mean(), inplace = True)\n",
    "diabetes_data['SkinThickness'].fillna(diabetes_data['SkinThickness'].median(), inplace = True)\n",
    "diabetes_data['Insulin'].fillna(diabetes_data['Insulin'].median(), inplace = True)\n",
    "diabetes_data['BMI'].fillna(diabetes_data['BMI'].median(), inplace = True)"
   ]
  },
  {
   "cell_type": "markdown",
   "metadata": {
    "tags": []
   },
   "source": [
    "**<font color='teal'> Plot histograms of each column after replacing nan. </font>**"
   ]
  },
  {
   "cell_type": "code",
   "execution_count": 38,
   "metadata": {},
   "outputs": [
    {
     "data": {
      "image/png": "[encoded data removed]",
      "text/plain": [
       "<Figure size 720x720 with 9 Axes>"
      ]
     },
     "metadata": {},
     "output_type": "display_data"
    }
   ],
   "source": [
    "diabetes_data.hist(grid=True, figsize=(10,10))\n",
    "plt.show()"
   ]
  },
  {
   "cell_type": "markdown",
   "metadata": {
    "tags": []
   },
   "source": [
    "#### Plot the correlation matrix heatmap"
   ]
  },
  {
   "cell_type": "code",
   "execution_count": 40,
   "metadata": {},
   "outputs": [
    {
     "name": "stdout",
     "output_type": "stream",
     "text": [
      "Correlation between various features\n"
     ]
    },
    {
     "data": {
      "image/png": "[encoded data removed]",
      "text/plain": [
       "<Figure size 864x720 with 2 Axes>"
      ]
     },
     "metadata": {},
     "output_type": "display_data"
    }
   ],
   "source": [
    "plt.figure(figsize=(12,10))\n",
    "print('Correlation between various features')\n",
    "p=sns.heatmap(diabetes_data.corr(), annot=True,cmap ='coolwarm') #coolwarm makes high correlations stand out in red\n",
    "plt.show()"
   ]
  },
  {
   "cell_type": "markdown",
   "metadata": {
    "tags": []
   },
   "source": [
    "**<font color='teal'> Define the `y` variable as the `Outcome` column.</font>**"
   ]
  },
  {
   "cell_type": "code",
   "execution_count": 45,
   "metadata": {},
   "outputs": [],
   "source": [
    "y = diabetes_data['Outcome']\n",
    "X = diabetes_data.drop(['Outcome'], axis=1)"
   ]
  },
  {
   "cell_type": "markdown",
   "metadata": {
    "tags": []
   },
   "source": [
    "**<font color='teal'> Using Sklearn, standarize the magnitude of the features by scaling the values. </font>**"
   ]
  },
  {
   "cell_type": "code",
   "execution_count": 64,
   "metadata": {},
   "outputs": [],
   "source": [
    "from sklearn.preprocessing import StandardScaler\n",
    "scaler = StandardScaler().fit(X)\n",
    "X_scaled= scaler.transform(X)\n",
    "y = y.ravel()"
   ]
  },
  {
   "cell_type": "markdown",
   "metadata": {
    "tags": []
   },
   "source": [
    "**<font color='teal'> Create a 70/30 train and test split. </font>**"
   ]
  },
  {
   "cell_type": "code",
   "execution_count": 65,
   "metadata": {},
   "outputs": [],
   "source": [
    "from sklearn.model_selection import train_test_split\n",
    "X_train, X_test, y_train, y_test = train_test_split(X_scaled, y, test_size=0.3, random_state=5)"
   ]
  },
  {
   "cell_type": "markdown",
   "metadata": {
    "tags": []
   },
   "source": [
    "#### Using a range of neighbor values of 1-10, apply the KNearestNeighbor classifier to classify the the data."
   ]
  },
  {
   "cell_type": "code",
   "execution_count": 80,
   "metadata": {},
   "outputs": [],
   "source": [
    "from sklearn.neighbors import KNeighborsClassifier\n",
    "\n",
    "\n",
    "test_scores = []\n",
    "train_scores = []\n",
    "\n",
    "for i in range(1,15):\n",
    "\n",
    "    knn = KNeighborsClassifier(i)\n",
    "    knn.fit(X_train,y_train)\n",
    "    \n",
    "    train_scores.append(knn.score(X_train,y_train))\n",
    "    test_scores.append(knn.score(X_test,y_test))"
   ]
  },
  {
   "cell_type": "markdown",
   "metadata": {
    "tags": []
   },
   "source": [
    "**<font color='teal'> Print the train and test scores for each iteration.</font>**"
   ]
  },
  {
   "cell_type": "code",
   "execution_count": 81,
   "metadata": {},
   "outputs": [
    {
     "name": "stdout",
     "output_type": "stream",
     "text": [
      "i = 1\n",
      "**************\n",
      "Train Scores = [1.0, 0.8324022346368715, 0.8286778398510242, 0.7988826815642458, 0.8026070763500931, 0.8026070763500931, 0.7970204841713222, 0.7858472998137802, 0.7821229050279329, 0.7802607076350093, 0.7988826815642458, 0.7932960893854749, 0.7877094972067039, 0.7802607076350093]\n",
      "**************\n",
      "Test Scores = [0.6796536796536796, 0.7056277056277056, 0.7316017316017316, 0.7748917748917749, 0.7272727272727273, 0.7445887445887446, 0.7142857142857143, 0.7359307359307359, 0.7445887445887446, 0.7575757575757576, 0.7575757575757576, 0.7575757575757576, 0.7359307359307359, 0.7489177489177489]\n",
      "i = 2\n",
      "**************\n",
      "Train Scores = [1.0, 0.8324022346368715, 0.8286778398510242, 0.7988826815642458, 0.8026070763500931, 0.8026070763500931, 0.7970204841713222, 0.7858472998137802, 0.7821229050279329, 0.7802607076350093, 0.7988826815642458, 0.7932960893854749, 0.7877094972067039, 0.7802607076350093]\n",
      "**************\n",
      "Test Scores = [0.6796536796536796, 0.7056277056277056, 0.7316017316017316, 0.7748917748917749, 0.7272727272727273, 0.7445887445887446, 0.7142857142857143, 0.7359307359307359, 0.7445887445887446, 0.7575757575757576, 0.7575757575757576, 0.7575757575757576, 0.7359307359307359, 0.7489177489177489]\n",
      "i = 3\n",
      "**************\n",
      "Train Scores = [1.0, 0.8324022346368715, 0.8286778398510242, 0.7988826815642458, 0.8026070763500931, 0.8026070763500931, 0.7970204841713222, 0.7858472998137802, 0.7821229050279329, 0.7802607076350093, 0.7988826815642458, 0.7932960893854749, 0.7877094972067039, 0.7802607076350093]\n",
      "**************\n",
      "Test Scores = [0.6796536796536796, 0.7056277056277056, 0.7316017316017316, 0.7748917748917749, 0.7272727272727273, 0.7445887445887446, 0.7142857142857143, 0.7359307359307359, 0.7445887445887446, 0.7575757575757576, 0.7575757575757576, 0.7575757575757576, 0.7359307359307359, 0.7489177489177489]\n",
      "i = 4\n",
      "**************\n",
      "Train Scores = [1.0, 0.8324022346368715, 0.8286778398510242, 0.7988826815642458, 0.8026070763500931, 0.8026070763500931, 0.7970204841713222, 0.7858472998137802, 0.7821229050279329, 0.7802607076350093, 0.7988826815642458, 0.7932960893854749, 0.7877094972067039, 0.7802607076350093]\n",
      "**************\n",
      "Test Scores = [0.6796536796536796, 0.7056277056277056, 0.7316017316017316, 0.7748917748917749, 0.7272727272727273, 0.7445887445887446, 0.7142857142857143, 0.7359307359307359, 0.7445887445887446, 0.7575757575757576, 0.7575757575757576, 0.7575757575757576, 0.7359307359307359, 0.7489177489177489]\n",
      "i = 5\n",
      "**************\n",
      "Train Scores = [1.0, 0.8324022346368715, 0.8286778398510242, 0.7988826815642458, 0.8026070763500931, 0.8026070763500931, 0.7970204841713222, 0.7858472998137802, 0.7821229050279329, 0.7802607076350093, 0.7988826815642458, 0.7932960893854749, 0.7877094972067039, 0.7802607076350093]\n",
      "**************\n",
      "Test Scores = [0.6796536796536796, 0.7056277056277056, 0.7316017316017316, 0.7748917748917749, 0.7272727272727273, 0.7445887445887446, 0.7142857142857143, 0.7359307359307359, 0.7445887445887446, 0.7575757575757576, 0.7575757575757576, 0.7575757575757576, 0.7359307359307359, 0.7489177489177489]\n",
      "i = 6\n",
      "**************\n",
      "Train Scores = [1.0, 0.8324022346368715, 0.8286778398510242, 0.7988826815642458, 0.8026070763500931, 0.8026070763500931, 0.7970204841713222, 0.7858472998137802, 0.7821229050279329, 0.7802607076350093, 0.7988826815642458, 0.7932960893854749, 0.7877094972067039, 0.7802607076350093]\n",
      "**************\n",
      "Test Scores = [0.6796536796536796, 0.7056277056277056, 0.7316017316017316, 0.7748917748917749, 0.7272727272727273, 0.7445887445887446, 0.7142857142857143, 0.7359307359307359, 0.7445887445887446, 0.7575757575757576, 0.7575757575757576, 0.7575757575757576, 0.7359307359307359, 0.7489177489177489]\n",
      "i = 7\n",
      "**************\n",
      "Train Scores = [1.0, 0.8324022346368715, 0.8286778398510242, 0.7988826815642458, 0.8026070763500931, 0.8026070763500931, 0.7970204841713222, 0.7858472998137802, 0.7821229050279329, 0.7802607076350093, 0.7988826815642458, 0.7932960893854749, 0.7877094972067039, 0.7802607076350093]\n",
      "**************\n",
      "Test Scores = [0.6796536796536796, 0.7056277056277056, 0.7316017316017316, 0.7748917748917749, 0.7272727272727273, 0.7445887445887446, 0.7142857142857143, 0.7359307359307359, 0.7445887445887446, 0.7575757575757576, 0.7575757575757576, 0.7575757575757576, 0.7359307359307359, 0.7489177489177489]\n",
      "i = 8\n",
      "**************\n",
      "Train Scores = [1.0, 0.8324022346368715, 0.8286778398510242, 0.7988826815642458, 0.8026070763500931, 0.8026070763500931, 0.7970204841713222, 0.7858472998137802, 0.7821229050279329, 0.7802607076350093, 0.7988826815642458, 0.7932960893854749, 0.7877094972067039, 0.7802607076350093]\n",
      "**************\n",
      "Test Scores = [0.6796536796536796, 0.7056277056277056, 0.7316017316017316, 0.7748917748917749, 0.7272727272727273, 0.7445887445887446, 0.7142857142857143, 0.7359307359307359, 0.7445887445887446, 0.7575757575757576, 0.7575757575757576, 0.7575757575757576, 0.7359307359307359, 0.7489177489177489]\n",
      "i = 9\n",
      "**************\n",
      "Train Scores = [1.0, 0.8324022346368715, 0.8286778398510242, 0.7988826815642458, 0.8026070763500931, 0.8026070763500931, 0.7970204841713222, 0.7858472998137802, 0.7821229050279329, 0.7802607076350093, 0.7988826815642458, 0.7932960893854749, 0.7877094972067039, 0.7802607076350093]\n",
      "**************\n",
      "Test Scores = [0.6796536796536796, 0.7056277056277056, 0.7316017316017316, 0.7748917748917749, 0.7272727272727273, 0.7445887445887446, 0.7142857142857143, 0.7359307359307359, 0.7445887445887446, 0.7575757575757576, 0.7575757575757576, 0.7575757575757576, 0.7359307359307359, 0.7489177489177489]\n",
      "i = 10\n",
      "**************\n",
      "Train Scores = [1.0, 0.8324022346368715, 0.8286778398510242, 0.7988826815642458, 0.8026070763500931, 0.8026070763500931, 0.7970204841713222, 0.7858472998137802, 0.7821229050279329, 0.7802607076350093, 0.7988826815642458, 0.7932960893854749, 0.7877094972067039, 0.7802607076350093]\n",
      "**************\n",
      "Test Scores = [0.6796536796536796, 0.7056277056277056, 0.7316017316017316, 0.7748917748917749, 0.7272727272727273, 0.7445887445887446, 0.7142857142857143, 0.7359307359307359, 0.7445887445887446, 0.7575757575757576, 0.7575757575757576, 0.7575757575757576, 0.7359307359307359, 0.7489177489177489]\n",
      "i = 11\n",
      "**************\n",
      "Train Scores = [1.0, 0.8324022346368715, 0.8286778398510242, 0.7988826815642458, 0.8026070763500931, 0.8026070763500931, 0.7970204841713222, 0.7858472998137802, 0.7821229050279329, 0.7802607076350093, 0.7988826815642458, 0.7932960893854749, 0.7877094972067039, 0.7802607076350093]\n",
      "**************\n",
      "Test Scores = [0.6796536796536796, 0.7056277056277056, 0.7316017316017316, 0.7748917748917749, 0.7272727272727273, 0.7445887445887446, 0.7142857142857143, 0.7359307359307359, 0.7445887445887446, 0.7575757575757576, 0.7575757575757576, 0.7575757575757576, 0.7359307359307359, 0.7489177489177489]\n",
      "i = 12\n",
      "**************\n",
      "Train Scores = [1.0, 0.8324022346368715, 0.8286778398510242, 0.7988826815642458, 0.8026070763500931, 0.8026070763500931, 0.7970204841713222, 0.7858472998137802, 0.7821229050279329, 0.7802607076350093, 0.7988826815642458, 0.7932960893854749, 0.7877094972067039, 0.7802607076350093]\n",
      "**************\n",
      "Test Scores = [0.6796536796536796, 0.7056277056277056, 0.7316017316017316, 0.7748917748917749, 0.7272727272727273, 0.7445887445887446, 0.7142857142857143, 0.7359307359307359, 0.7445887445887446, 0.7575757575757576, 0.7575757575757576, 0.7575757575757576, 0.7359307359307359, 0.7489177489177489]\n",
      "i = 13\n",
      "**************\n",
      "Train Scores = [1.0, 0.8324022346368715, 0.8286778398510242, 0.7988826815642458, 0.8026070763500931, 0.8026070763500931, 0.7970204841713222, 0.7858472998137802, 0.7821229050279329, 0.7802607076350093, 0.7988826815642458, 0.7932960893854749, 0.7877094972067039, 0.7802607076350093]\n",
      "**************\n",
      "Test Scores = [0.6796536796536796, 0.7056277056277056, 0.7316017316017316, 0.7748917748917749, 0.7272727272727273, 0.7445887445887446, 0.7142857142857143, 0.7359307359307359, 0.7445887445887446, 0.7575757575757576, 0.7575757575757576, 0.7575757575757576, 0.7359307359307359, 0.7489177489177489]\n",
      "i = 14\n",
      "**************\n",
      "Train Scores = [1.0, 0.8324022346368715, 0.8286778398510242, 0.7988826815642458, 0.8026070763500931, 0.8026070763500931, 0.7970204841713222, 0.7858472998137802, 0.7821229050279329, 0.7802607076350093, 0.7988826815642458, 0.7932960893854749, 0.7877094972067039, 0.7802607076350093]\n",
      "**************\n",
      "Test Scores = [0.6796536796536796, 0.7056277056277056, 0.7316017316017316, 0.7748917748917749, 0.7272727272727273, 0.7445887445887446, 0.7142857142857143, 0.7359307359307359, 0.7445887445887446, 0.7575757575757576, 0.7575757575757576, 0.7575757575757576, 0.7359307359307359, 0.7489177489177489]\n"
     ]
    }
   ],
   "source": [
    "for i in range(1,15):\n",
    "    print('i = ' + str(i))\n",
    "    print('**************')\n",
    "    print('Train Scores = ' + str(train_scores))\n",
    "    print('**************')\n",
    "    print('Test Scores = ' +str(test_scores))"
   ]
  },
  {
   "cell_type": "markdown",
   "metadata": {
    "tags": []
   },
   "source": [
    "**<font color='teal'> Identify the number of neighbors between 1-15 that resulted in the max score in the training dataset. </font>**"
   ]
  },
  {
   "cell_type": "code",
   "execution_count": 92,
   "metadata": {},
   "outputs": [],
   "source": [
    "from sklearn.neighbors import KNeighborsClassifier\n",
    "from sklearn.model_selection import cross_val_score\n",
    "\n",
    "neighbors = list(range(1,15))\n",
    "\n",
    "cv_scores = [ ]\n",
    "\n",
    "for K in neighbors:\n",
    "    knn = KNeighborsClassifier(n_neighbors = K)\n",
    "    scores = cross_val_score(knn,X_train,y_train,cv = 10,scoring =\n",
    "    \"accuracy\")\n",
    "    cv_scores.append(scores.mean())"
   ]
  },
  {
   "cell_type": "code",
   "execution_count": 93,
   "metadata": {},
   "outputs": [
    {
     "name": "stdout",
     "output_type": "stream",
     "text": [
      "The optimal no. of neighbors is 14\n"
     ]
    }
   ],
   "source": [
    "accuracy_train = [x for x in cv_scores]\n",
    "\n",
    "optimal_k_train = neighbors[accuracy_train.index(max(accuracy_train))]\n",
    "print(\"The optimal no. of neighbors is {}\".format(optimal_k_train))"
   ]
  },
  {
   "cell_type": "markdown",
   "metadata": {
    "tags": []
   },
   "source": [
    "**<font color='teal'> Identify the number of neighbors between 1-15 that resulted in the max score in the testing dataset. </font>**"
   ]
  },
  {
   "cell_type": "code",
   "execution_count": 95,
   "metadata": {},
   "outputs": [],
   "source": [
    "from sklearn.neighbors import KNeighborsClassifier\n",
    "from sklearn.model_selection import cross_val_score\n",
    "\n",
    "neighbors = list(range(1,15))\n",
    "\n",
    "cv_scores = [ ]\n",
    "\n",
    "for K in neighbors:\n",
    "    knn = KNeighborsClassifier(n_neighbors = K)\n",
    "    scores = cross_val_score(knn,X_test,y_test,cv = 10,scoring =\n",
    "    \"accuracy\")\n",
    "    cv_scores.append(scores.mean())"
   ]
  },
  {
   "cell_type": "code",
   "execution_count": 96,
   "metadata": {},
   "outputs": [
    {
     "name": "stdout",
     "output_type": "stream",
     "text": [
      "The optimal no. of neighbors is 13\n"
     ]
    }
   ],
   "source": [
    "accuracy_test = [x for x in cv_scores]\n",
    "\n",
    "optimal_k_test = neighbors[accuracy_test.index(max(accuracy_test))]\n",
    "print(\"The optimal no. of neighbors is {}\".format(optimal_k_test))"
   ]
  },
  {
   "cell_type": "markdown",
   "metadata": {
    "tags": []
   },
   "source": [
    "Plot the train and test model performance by number of neighbors."
   ]
  },
  {
   "cell_type": "code",
   "execution_count": 97,
   "metadata": {},
   "outputs": [
    {
     "data": {
      "image/png": "[encoded data removed]",
      "text/plain": [
       "<Figure size 864x360 with 1 Axes>"
      ]
     },
     "metadata": {},
     "output_type": "display_data"
    }
   ],
   "source": [
    "plt.figure(figsize=(12,5))\n",
    "p = sns.lineplot(range(1,15),train_scores,marker='*',label='Train Score')\n",
    "p = sns.lineplot(range(1,15),test_scores,marker='o',label='Test Score')"
   ]
  },
  {
   "cell_type": "markdown",
   "metadata": {
    "tags": []
   },
   "source": [
    "**<font color='teal'> Fit and score the best number of neighbors based on the plot. </font>**"
   ]
  },
  {
   "cell_type": "code",
   "execution_count": 98,
   "metadata": {},
   "outputs": [
    {
     "data": {
      "text/plain": [
       "KNeighborsClassifier(algorithm='auto', leaf_size=30, metric='minkowski',\n",
       "                     metric_params=None, n_jobs=None, n_neighbors=14, p=2,\n",
       "                     weights='uniform')"
      ]
     },
     "execution_count": 98,
     "metadata": {},
     "output_type": "execute_result"
    }
   ],
   "source": [
    "knn_4 = KNeighborsClassifier(n_neighbors=4)\n",
    "knn.fit(X_train,y_train)"
   ]
  },
  {
   "cell_type": "code",
   "execution_count": 99,
   "metadata": {},
   "outputs": [],
   "source": [
    "from sklearn.metrics import confusion_matrix\n",
    "y_pred = knn.predict(X_test)\n",
    "pl = confusion_matrix(y_test,y_pred)"
   ]
  },
  {
   "cell_type": "markdown",
   "metadata": {
    "tags": []
   },
   "source": [
    "**<font color='teal'> Plot the confusion matrix for the model fit above. </font>**"
   ]
  },
  {
   "cell_type": "code",
   "execution_count": 107,
   "metadata": {},
   "outputs": [
    {
     "data": {
      "text/html": [
       "<div>\n",
       "<style scoped>\n",
       "    .dataframe tbody tr th:only-of-type {\n",
       "        vertical-align: middle;\n",
       "    }\n",
       "\n",
       "    .dataframe tbody tr th {\n",
       "        vertical-align: top;\n",
       "    }\n",
       "\n",
       "    .dataframe thead th {\n",
       "        text-align: right;\n",
       "    }\n",
       "</style>\n",
       "<table border=\"1\" class=\"dataframe\">\n",
       "  <thead>\n",
       "    <tr style=\"text-align: right;\">\n",
       "      <th>Predicted</th>\n",
       "      <th>0</th>\n",
       "      <th>1</th>\n",
       "      <th>All</th>\n",
       "    </tr>\n",
       "    <tr>\n",
       "      <th>True</th>\n",
       "      <th></th>\n",
       "      <th></th>\n",
       "      <th></th>\n",
       "    </tr>\n",
       "  </thead>\n",
       "  <tbody>\n",
       "    <tr>\n",
       "      <th>0</th>\n",
       "      <td>128</td>\n",
       "      <td>32</td>\n",
       "      <td>160</td>\n",
       "    </tr>\n",
       "    <tr>\n",
       "      <th>1</th>\n",
       "      <td>26</td>\n",
       "      <td>45</td>\n",
       "      <td>71</td>\n",
       "    </tr>\n",
       "    <tr>\n",
       "      <th>All</th>\n",
       "      <td>154</td>\n",
       "      <td>77</td>\n",
       "      <td>231</td>\n",
       "    </tr>\n",
       "  </tbody>\n",
       "</table>\n",
       "</div>"
      ],
      "text/plain": [
       "Predicted    0   1  All\n",
       "True                   \n",
       "0          128  32  160\n",
       "1           26  45   71\n",
       "All        154  77  231"
      ]
     },
     "execution_count": 107,
     "metadata": {},
     "output_type": "execute_result"
    }
   ],
   "source": [
    "pd.crosstab(y_test, y_pred, rownames=['True'], colnames=['Predicted'], margins=True)"
   ]
  },
  {
   "cell_type": "markdown",
   "metadata": {
    "tags": []
   },
   "source": [
    "**<font color='teal'> Print the classification report </font>**"
   ]
  },
  {
   "cell_type": "code",
   "execution_count": 108,
   "metadata": {},
   "outputs": [
    {
     "name": "stdout",
     "output_type": "stream",
     "text": [
      "              precision    recall  f1-score   support\n",
      "\n",
      "           0       0.83      0.80      0.82       160\n",
      "           1       0.58      0.63      0.61        71\n",
      "\n",
      "    accuracy                           0.75       231\n",
      "   macro avg       0.71      0.72      0.71       231\n",
      "weighted avg       0.76      0.75      0.75       231\n",
      "\n"
     ]
    }
   ],
   "source": [
    "from sklearn.metrics import classification_report\n",
    "print(classification_report(y_test,y_pred))"
   ]
  },
  {
   "cell_type": "markdown",
   "metadata": {
    "tags": []
   },
   "source": [
    "#### In the case of the K nearest neighbors algorithm, the K parameter is one of the most important parameters affecting the model performance.  The model performance isn't horrible, but what if we didn't consider a wide enough range of values in our neighbors for the KNN? An alternative to fitting a loop of models is to use a grid search to identify the proper number. It is common practice to use a grid search method for all adjustable parameters in any type of machine learning algorithm. First, you define the grid — aka the range of values — to test in the parameter being optimized, and then compare the model outcome performance based on the different values in the grid."
   ]
  },
  {
   "cell_type": "markdown",
   "metadata": {
    "tags": []
   },
   "source": [
    "#### Run the code in the next cell to see how to implement the grid search method for identifying the best parameter value for the n_neighbors parameter. Notice the param_grid is the range value to test and we apply cross validation with five folds to score each possible value of n_neighbors."
   ]
  },
  {
   "cell_type": "code",
   "execution_count": 112,
   "metadata": {},
   "outputs": [
    {
     "data": {
      "text/plain": [
       "GridSearchCV(cv=5, error_score=nan,\n",
       "             estimator=KNeighborsClassifier(algorithm='auto', leaf_size=30,\n",
       "                                            metric='minkowski',\n",
       "                                            metric_params=None, n_jobs=None,\n",
       "                                            n_neighbors=5, p=2,\n",
       "                                            weights='uniform'),\n",
       "             iid='deprecated', n_jobs=None,\n",
       "             param_grid={'n_neighbors': array([ 1,  2,  3,  4,  5,  6,  7,  8,  9, 10, 11, 12, 13, 14, 15, 16, 17,\n",
       "       18, 19, 20, 21, 22, 23, 24, 25, 26, 27, 28, 29, 30, 31, 32, 33, 34,\n",
       "       35, 36, 37, 38, 39, 40, 41, 42, 43, 44, 45, 46, 47, 48, 49])},\n",
       "             pre_dispatch='2*n_jobs', refit=True, return_train_score=False,\n",
       "             scoring=None, verbose=0)"
      ]
     },
     "execution_count": 112,
     "metadata": {},
     "output_type": "execute_result"
    }
   ],
   "source": [
    "from sklearn.model_selection import GridSearchCV\n",
    "param_grid = {'n_neighbors':np.arange(1,50)}\n",
    "knn = KNeighborsClassifier()\n",
    "knn_cv= GridSearchCV(knn,param_grid,cv=5)\n",
    "knn_cv.fit(X,y)"
   ]
  },
  {
   "cell_type": "markdown",
   "metadata": {
    "tags": []
   },
   "source": [
    "#### Print the best score and best parameter for n_neighbors."
   ]
  },
  {
   "cell_type": "code",
   "execution_count": 113,
   "metadata": {},
   "outputs": [
    {
     "name": "stdout",
     "output_type": "stream",
     "text": [
      "Best Score:0.7526440879382056\n",
      "Best Parameters: {'n_neighbors': 31}\n"
     ]
    }
   ],
   "source": [
    "print(\"Best Score:\" + str(knn_cv.best_score_))\n",
    "print(\"Best Parameters: \" + str(knn_cv.best_params_))"
   ]
  },
  {
   "cell_type": "markdown",
   "metadata": {},
   "source": [
    "Here you can see that the ideal number of n_neighbors for this model is 31 based on the grid search performed. "
   ]
  },
  {
   "cell_type": "code",
   "execution_count": 39,
   "metadata": {},
   "outputs": [],
   "source": []
  },
  {
   "cell_type": "code",
   "execution_count": null,
   "metadata": {
    "tags": []
   },
   "outputs": [],
   "source": []
  }
 ],
 "metadata": {
  "kernelspec": {
   "display_name": "Python 3",
   "language": "python",
   "name": "python3"
  },
  "language_info": {
   "codemirror_mode": {
    "name": "ipython",
    "version": 3
   },
   "file_extension": ".py",
   "mimetype": "text/x-python",
   "name": "python",
   "nbconvert_exporter": "python",
   "pygments_lexer": "ipython3",
   "version": "3.7.4"
  }
 },
 "nbformat": 4,
 "nbformat_minor": 2
}
